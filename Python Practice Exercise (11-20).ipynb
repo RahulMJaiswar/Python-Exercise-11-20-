{
 "cells": [
  {
   "cell_type": "markdown",
   "metadata": {},
   "source": [
    "# 11. Write a program that sorts all the elements of the list according to the first letter, irrespective of their cases (uppercase or lowercase). Note: Do not use any inbuilt sorting function"
   ]
  },
  {
   "cell_type": "code",
   "execution_count": 1,
   "metadata": {},
   "outputs": [
    {
     "name": "stdout",
     "output_type": "stream",
     "text": [
      "['C', 'c++', 'data science', 'Hadoop', 'python', 'Scala']\n"
     ]
    }
   ],
   "source": [
    "courses = ['python', 'Hadoop', 'data science', 'Scala', 'C', 'c++']\n",
    "s = ' '\n",
    "for i in range(len(courses)):      # Iterating through the list\n",
    "    for j in range(i+1, len(courses)):      # Iterating through the same list but with indices i+1\n",
    "        if(courses[i][0].lower() > courses[j][0].lower()):    # Comparing the first characters of the words at index i and i+1. \n",
    "            courses[i], courses[j] = courses[j], courses[i]     # Swapping the words position if the above condition is met.\n",
    "\n",
    "print(courses)  "
   ]
  },
  {
   "cell_type": "markdown",
   "metadata": {},
   "source": [
    "# 12. Write a program that prints a list of sour fruits from the below tuple:\n",
    "fruits = (('Lemon','sour'), ('DragonFruit', 'Sweet'),\n",
    "          ('Grapes','soUr'), ('Kiwi','Sour'), ('Apples','sweet'),\n",
    "          ('Orange','sour'), ('Blueberries','sweet'), \n",
    "          ('Limes','Sour') ) \n",
    "Output: Sour Fruits: ['Lemon', 'Grapes', 'Kiwi', 'Orange', 'Limes']"
   ]
  },
  {
   "cell_type": "code",
   "execution_count": 2,
   "metadata": {},
   "outputs": [
    {
     "name": "stdout",
     "output_type": "stream",
     "text": [
      "Sour Fruits:  ['Orange', 'Green Mango', 'Kiwi', 'Raspberry', 'Pineapple']\n"
     ]
    }
   ],
   "source": [
    "fruits = (('Orange','Sour'),\n",
    "          ('Green Mango', 'Sour'),\n",
    "          ('Papaya','sweet'),\n",
    "          ('Kiwi','Sour'),\n",
    "          ('Apples','sweet'),\n",
    "          ('Banana','sweet'),\n",
    "          ('Raspberry','sour'),\n",
    "          ('Pineapple','Sour')\n",
    "          )                              # Tuple containing fruits and their corresponding taste\n",
    "sour = []                                # Empty list to append sour fruits output\n",
    "fruits_dict = dict(fruits)               # Converting the tuple into dictionary\n",
    "\n",
    "for fruit in fruits_dict:                # Iterating fruits i.e. keys from the dictionary\n",
    "    taste = fruits_dict[fruit].lower()   # Converting uppercase words to lowercase\n",
    "    if taste == 'sour':                  # Comparing if taste is sour\n",
    "        sour.append(fruit)               # Append the sour fruits to the list\n",
    "\n",
    "print('Sour Fruits: ',sour) "
   ]
  },
  {
   "cell_type": "markdown",
   "metadata": {},
   "source": [
    "# 13. Given below are the list of positive and negative words. Also a list of tweets is provided. Separate out the positive and negative comments\n",
    "\n",
    "\n",
    "positive = ['good','awesome', 'best', 'nice']\n",
    "\n",
    "\n",
    "negative = ['worst','awful', 'bad']\n",
    "\n",
    "\n",
    "tweets = ['This government policies are good', 'bad implementation', 'The way he played showed that he is one of the best players in the world', 'Her acting in the play was awesome', 'The wine tastes awful', 'It's nice to hear this little kid's laugh']"
   ]
  },
  {
   "cell_type": "code",
   "execution_count": 3,
   "metadata": {},
   "outputs": [
    {
     "name": "stdout",
     "output_type": "stream",
     "text": [
      "Positive Sentiment:  ['This government policies are good', 'The way he played showed that he is one of the best players in the world', 'Her acting in the play was awesome', \"It's nice to hear this little kid's laugh\"]\n",
      "\n",
      "Negative Sentiment:  ['bad implementation', 'The wine tastes awful', 'The service here is extremly bad']\n"
     ]
    }
   ],
   "source": [
    "positive = ['good','awesome', 'best', 'nice']     \n",
    "negative = ['worst','awful', 'bad']                      \n",
    "\n",
    "positive_sentiment = []                           # Empty list for storing sentences having positive sentiment\n",
    "negative_sentiment = []                           # Empty list for storing sentences having negative sentiment\n",
    "\n",
    "tweets = ['This government policies are good', \n",
    "            'bad implementation', \n",
    "            'The way he played showed that he is one of the best players in the world', \n",
    "            'Her acting in the play was awesome', 'The wine tastes awful', \n",
    "            \"It's nice to hear this little kid's laugh\",\n",
    "          \"The service here is extremly bad\"\n",
    "         ]        \n",
    "\n",
    "\n",
    "for sentence in tweets:                             # Iterating sentencesfrom the list lst\n",
    "    for pos in positive:                              # Iterating words from the list po_sent\n",
    "        if pos in sentence:                           # Looking if words from po_sent are present in the sentence\n",
    "            positive_sentiment.append(sentence)       # Appending the positive sentences in the list\n",
    "    for nes in negative:                              # Iterating words from the list po_sent\n",
    "        if nes in sentence:                           # Looking if words from po_sent are present in the sentence\n",
    "            negative_sentiment.append(sentence)       # Appending the positive sentences in the list\n",
    "    \n",
    "\n",
    "print(\"Positive Sentiment: \",positive_sentiment)     # Printing sentences with positive sentiment\n",
    "print(\"\\nNegative Sentiment: \",negative_sentiment)"
   ]
  },
  {
   "cell_type": "markdown",
   "metadata": {},
   "source": [
    "# 14. Write a program that performs multiplication of the following two matrix\n",
    "\n",
    "X = [[1,2,3],\n",
    "    [4 ,5,6],\n",
    "    [7 ,8,9]]\n",
    "\n",
    "Y = [[1,8,1],\n",
    "    [3,7,3],\n",
    "    [4,5,9]]"
   ]
  },
  {
   "cell_type": "code",
   "execution_count": 4,
   "metadata": {},
   "outputs": [
    {
     "name": "stdout",
     "output_type": "stream",
     "text": [
      "[19, 37, 34]\n",
      "[43, 97, 73]\n",
      "[67, 157, 112]\n"
     ]
    }
   ],
   "source": [
    "X = [[1,2,3],\n",
    "    [4 ,5,6],\n",
    "    [7 ,8,9]]\n",
    "\n",
    "Y = [[1,8,1],\n",
    "    [3,7,3],\n",
    "    [4,5,9]]\n",
    "\n",
    "# create a zero matrix to store the product of matrices\n",
    "result = [[0,0,0],\n",
    "         [0,0,0],\n",
    "         [0,0,0]]\n",
    "\n",
    "for i in range(len(X)):\n",
    "    for j in range(len(Y[0])):\n",
    "        for k in range(len(Y)):\n",
    "             result[i][j] += X[i][k] * Y[k][j]\n",
    "for r in result:\n",
    "    print(r)"
   ]
  },
  {
   "cell_type": "markdown",
   "metadata": {},
   "source": [
    "# 15. Write a program to remove space from keys of the given dictionary\n",
    "\n",
    "Employee = {'emp 01' : 'Raj', 'emp 02' : 'Sheela', 'emp 0 3 ': 'Joseph'}; \n",
    "\n",
    "Output:\n",
    "New dictionary :  {'emp01': 'Raj', 'emp02': 'Sheela', 'emp03': 'Joseph'}"
   ]
  },
  {
   "cell_type": "code",
   "execution_count": 5,
   "metadata": {},
   "outputs": [
    {
     "name": "stdout",
     "output_type": "stream",
     "text": [
      " New dictionary :  {'emp01': 'Raj', 'emp02': 'Sheela', 'emp03': 'Joseph'}\n"
     ]
    }
   ],
   "source": [
    "# creating a dictionary of type string \n",
    "  \n",
    "Employee = {'emp 01' : 'Raj', 'emp 02' : 'Sheela', 'emp 0 3 ': 'Joseph'}; \n",
    "  \n",
    "# removing spaces from keys \n",
    "# storing them in same dictionary \n",
    "Employee = {x.replace(' ', ''): v for x, v in Employee.items()} \n",
    "  \n",
    "# printing new dictionary \n",
    "print (\" New dictionary : \",Employee) "
   ]
  },
  {
   "cell_type": "markdown",
   "metadata": {},
   "source": [
    "# 16.  Write a program to display the subjects for which the scores are between 300 and 500 (inclusive) in the given dataframe\n",
    "\n",
    "Use the dataframe given below:\n",
    "\n",
    "Subject\tScore\n",
    "Maths\t345\n",
    "Physics\t432\n",
    "Chemistry\t456\n",
    "Biology\t234\n",
    "Geology\t254\n"
   ]
  },
  {
   "cell_type": "code",
   "execution_count": 6,
   "metadata": {},
   "outputs": [
    {
     "name": "stdout",
     "output_type": "stream",
     "text": [
      "     Subject  Score\n",
      "0      Maths    345\n",
      "1    Physics    432\n",
      "2  Chemistry    456\n",
      "3    Biology    234\n",
      "4    Geology    254\n",
      "\n",
      "\n",
      "Subjects for which marks are between 300 and 500:\n",
      " 0        Maths\n",
      "1      Physics\n",
      "2    Chemistry\n",
      "Name: Subject, dtype: object\n"
     ]
    }
   ],
   "source": [
    "# import pandas\n",
    "import pandas as pd\n",
    "# given data\n",
    "data= [['Maths',345], ['Physics',432], ['Chemistry',456], ['Biology',234], ['Geology',254]]\n",
    "\n",
    "# 'columns' assigns the names to the columns in the dataframe\n",
    "df = pd.DataFrame(data, columns=['Subject','Score'])\n",
    "print(df)\n",
    "print('\\n')\n",
    "\n",
    "# retrieve the subjects for which marks are between 7 and 9\n",
    "print('Subjects for which marks are between 300 and 500:\\n', df['Subject'][df['Score'].between(300, 500)])"
   ]
  },
  {
   "cell_type": "markdown",
   "metadata": {},
   "source": [
    "# 17. Write a program to find numbers between 10000 to 20000 from a given array\n",
    "\n",
    "Use the list given below:\n",
    "\n",
    "Sales = [1432,143223,2043332,1642357,54327,754338,12459,75435,224454,1433,12447,25532,86674,74338,12678]"
   ]
  },
  {
   "cell_type": "code",
   "execution_count": 7,
   "metadata": {},
   "outputs": [
    {
     "data": {
      "text/plain": [
       "array([12447, 12459, 12678])"
      ]
     },
     "execution_count": 7,
     "metadata": {},
     "output_type": "execute_result"
    }
   ],
   "source": [
    "# import numpy\n",
    "import numpy as np\n",
    "# given list\n",
    "Sales = [1432,143223,2043332,1642357,54327,754338,12459,75435,224454,1433,12447,25532,86674,74338,12678]\n",
    "Sales = np.array(Sales)\n",
    "\n",
    "# create arrays containing numbers between 10 and 16\n",
    "num_greater_than_10000 =  Sales[Sales > 10000]\n",
    "num_less_than_20000 =  Sales[Sales < 20000]\n",
    "\n",
    "# 'intersect1d' returns common elements in the two arrays\n",
    "np.intersect1d(num_greater_than_10000, num_less_than_20000)"
   ]
  },
  {
   "cell_type": "markdown",
   "metadata": {},
   "source": [
    "# 18. Write a program to sort the dataframe by Rank (in ascending order)\n",
    "\n",
    "Use the dataframe given below:\n",
    "\n",
    "Name\tRank\n",
    "Joy\t115\n",
    "Mia\t451\n",
    "Karan\t341\n",
    "Tom\t84\n"
   ]
  },
  {
   "cell_type": "code",
   "execution_count": 8,
   "metadata": {},
   "outputs": [
    {
     "name": "stdout",
     "output_type": "stream",
     "text": [
      "original dataframe:\n",
      "     Name  Rank\n",
      "0    Joy   115\n",
      "1    Mia   451\n",
      "2  Karan   341\n",
      "3    Tom    84\n",
      "\n",
      "\n",
      "Sorted dataframe:\n"
     ]
    },
    {
     "data": {
      "text/html": [
       "<div>\n",
       "<style scoped>\n",
       "    .dataframe tbody tr th:only-of-type {\n",
       "        vertical-align: middle;\n",
       "    }\n",
       "\n",
       "    .dataframe tbody tr th {\n",
       "        vertical-align: top;\n",
       "    }\n",
       "\n",
       "    .dataframe thead th {\n",
       "        text-align: right;\n",
       "    }\n",
       "</style>\n",
       "<table border=\"1\" class=\"dataframe\">\n",
       "  <thead>\n",
       "    <tr style=\"text-align: right;\">\n",
       "      <th></th>\n",
       "      <th>Name</th>\n",
       "      <th>Rank</th>\n",
       "    </tr>\n",
       "  </thead>\n",
       "  <tbody>\n",
       "    <tr>\n",
       "      <th>3</th>\n",
       "      <td>Tom</td>\n",
       "      <td>84</td>\n",
       "    </tr>\n",
       "    <tr>\n",
       "      <th>0</th>\n",
       "      <td>Joy</td>\n",
       "      <td>115</td>\n",
       "    </tr>\n",
       "    <tr>\n",
       "      <th>2</th>\n",
       "      <td>Karan</td>\n",
       "      <td>341</td>\n",
       "    </tr>\n",
       "    <tr>\n",
       "      <th>1</th>\n",
       "      <td>Mia</td>\n",
       "      <td>451</td>\n",
       "    </tr>\n",
       "  </tbody>\n",
       "</table>\n",
       "</div>"
      ],
      "text/plain": [
       "    Name  Rank\n",
       "3    Tom    84\n",
       "0    Joy   115\n",
       "2  Karan   341\n",
       "1    Mia   451"
      ]
     },
     "execution_count": 8,
     "metadata": {},
     "output_type": "execute_result"
    }
   ],
   "source": [
    "# given data\n",
    "data= [['Joy',115], ['Mia',451], ['Karan',341], ['Tom',84]]\n",
    "\n",
    "# 'columns' assigns the names to the columns in the dataframe\n",
    "df_student = pd.DataFrame(data, columns=['Name','Rank'])\n",
    "print('original dataframe:\\n', df_student)\n",
    "print('\\n')\n",
    "\n",
    "# sort the dataframe by Rank\n",
    "print('Sorted dataframe:')\n",
    "df_student.sort_values(by = ['Rank'])"
   ]
  },
  {
   "cell_type": "markdown",
   "metadata": {},
   "source": [
    "# 19. Use the data given in the question 18, to do the following:\n",
    " Write a program to swap the 1st and 2nd row in a dataframe"
   ]
  },
  {
   "cell_type": "code",
   "execution_count": 9,
   "metadata": {},
   "outputs": [
    {
     "name": "stdout",
     "output_type": "stream",
     "text": [
      "updated datagrame:\n",
      "     Name  Rank\n",
      "0    Mia   451\n",
      "1    Joy   115\n",
      "2  Karan   341\n",
      "3    Tom    84\n"
     ]
    }
   ],
   "source": [
    "# save the copy of 1st and 2nd row in new variables 'b' and 'c'\n",
    "b, c = df_student.iloc[0].copy(), df_student.iloc[1].copy()\n",
    "\n",
    "# swap the rows\n",
    "df_student.iloc[0], df_student.iloc[1] = c, b\n",
    "\n",
    "print('updated datagrame:\\n', df_student)"
   ]
  },
  {
   "cell_type": "markdown",
   "metadata": {},
   "source": [
    "# 20. Write a program to replace 0 and 1 in Gender variable with M and F\n",
    "\n",
    "Use the dataframe given below:\n",
    "\n",
    "Id\tName\tAge\tGender\n",
    "1\tMia\t    47\t1\n",
    "2\tSara\t38\t1\n",
    "3\tJoy\t    47\t0\n",
    "4\tKaran\t41\t0\n"
   ]
  },
  {
   "cell_type": "code",
   "execution_count": 10,
   "metadata": {},
   "outputs": [
    {
     "name": "stdout",
     "output_type": "stream",
     "text": [
      "original dataframe:\n",
      "    Id   Name  Age Gender\n",
      "0   1    Mia   47      1\n",
      "1   2   Sara   38      1\n",
      "2   3    Joy   47      0\n",
      "3   4  Karan   41      0\n",
      "\n",
      "\n",
      "updated dataframe:\n"
     ]
    },
    {
     "data": {
      "text/html": [
       "<div>\n",
       "<style scoped>\n",
       "    .dataframe tbody tr th:only-of-type {\n",
       "        vertical-align: middle;\n",
       "    }\n",
       "\n",
       "    .dataframe tbody tr th {\n",
       "        vertical-align: top;\n",
       "    }\n",
       "\n",
       "    .dataframe thead th {\n",
       "        text-align: right;\n",
       "    }\n",
       "</style>\n",
       "<table border=\"1\" class=\"dataframe\">\n",
       "  <thead>\n",
       "    <tr style=\"text-align: right;\">\n",
       "      <th></th>\n",
       "      <th>Id</th>\n",
       "      <th>Name</th>\n",
       "      <th>Age</th>\n",
       "      <th>Gender</th>\n",
       "    </tr>\n",
       "  </thead>\n",
       "  <tbody>\n",
       "    <tr>\n",
       "      <th>0</th>\n",
       "      <td>1</td>\n",
       "      <td>Mia</td>\n",
       "      <td>47</td>\n",
       "      <td>F</td>\n",
       "    </tr>\n",
       "    <tr>\n",
       "      <th>1</th>\n",
       "      <td>2</td>\n",
       "      <td>Sara</td>\n",
       "      <td>38</td>\n",
       "      <td>F</td>\n",
       "    </tr>\n",
       "    <tr>\n",
       "      <th>2</th>\n",
       "      <td>3</td>\n",
       "      <td>Joy</td>\n",
       "      <td>47</td>\n",
       "      <td>M</td>\n",
       "    </tr>\n",
       "    <tr>\n",
       "      <th>3</th>\n",
       "      <td>4</td>\n",
       "      <td>Karan</td>\n",
       "      <td>41</td>\n",
       "      <td>M</td>\n",
       "    </tr>\n",
       "  </tbody>\n",
       "</table>\n",
       "</div>"
      ],
      "text/plain": [
       "   Id   Name  Age Gender\n",
       "0   1    Mia   47      F\n",
       "1   2   Sara   38      F\n",
       "2   3    Joy   47      M\n",
       "3   4  Karan   41      M"
      ]
     },
     "execution_count": 10,
     "metadata": {},
     "output_type": "execute_result"
    }
   ],
   "source": [
    "# given dataframe\n",
    "data={'Id':[1,2,3,4],\n",
    "      'Name':['Mia','Sara','Joy','Karan'],\n",
    "      'Age':[47,38,47,41],\n",
    "      'Gender':['1','1','0','0']\n",
    "      }\n",
    "df_info= pd.DataFrame(data)\n",
    "print('original dataframe:\\n', df_info)\n",
    "print('\\n')\n",
    "\n",
    "# replace M and F in 'Gender' column with 0 and 1\n",
    "df_info['Gender'] = df_info['Gender'].map({'0':'M', '1':'F'})\n",
    "\n",
    "print('updated dataframe:')\n",
    "df_info"
   ]
  },
  {
   "cell_type": "code",
   "execution_count": null,
   "metadata": {},
   "outputs": [],
   "source": []
  }
 ],
 "metadata": {
  "kernelspec": {
   "display_name": "Python 3",
   "language": "python",
   "name": "python3"
  },
  "language_info": {
   "codemirror_mode": {
    "name": "ipython",
    "version": 3
   },
   "file_extension": ".py",
   "mimetype": "text/x-python",
   "name": "python",
   "nbconvert_exporter": "python",
   "pygments_lexer": "ipython3",
   "version": "3.7.6"
  }
 },
 "nbformat": 4,
 "nbformat_minor": 4
}
